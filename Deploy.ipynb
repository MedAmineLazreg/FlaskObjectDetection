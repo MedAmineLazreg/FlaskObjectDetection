{
 "cells": [
  {
   "cell_type": "code",
   "execution_count": 3,
   "metadata": {},
   "outputs": [
    {
     "data": {
      "text/plain": [
       "'2.1.0'"
      ]
     },
     "execution_count": 3,
     "metadata": {},
     "output_type": "execute_result"
    }
   ],
   "source": [
    "import os\n",
    "from flask import Flask, render_template, request, redirect, url_for, send_from_directory\n",
    "from werkzeug.utils import secure_filename\n",
    "import numpy as np\n",
    "import os\n",
    "import six.moves.urllib as urllib\n",
    "import sys\n",
    "import tensorflow as tf\n",
    "from collections import defaultdict\n",
    "from io import StringIO\n",
    "from PIL import Image\n",
    "sys.path.append(\"..\")\n",
    "tf.__version__"
   ]
  },
  {
   "cell_type": "code",
   "execution_count": 4,
   "metadata": {},
   "outputs": [],
   "source": [
    "# Import utilites\n",
    "from utils import label_map_util\n",
    "from utils import visualization_utils as vis_util"
   ]
  },
  {
   "cell_type": "code",
   "execution_count": 6,
   "metadata": {},
   "outputs": [],
   "source": [
    "MODEL_NAME = 'inference_graph3'\n",
    "CWD_PATH = os.getcwd()\n",
    "PATH_TO_CKPT = os.path.join(CWD_PATH,MODEL_NAME,'frozen_inference_graph.pb')\n",
    "PATH_TO_LABELS = os.path.join(CWD_PATH,'training','labelmap.pbtxt')\n",
    "NUM_CLASSES = 6"
   ]
  },
  {
   "cell_type": "code",
   "execution_count": 7,
   "metadata": {},
   "outputs": [],
   "source": [
    "label_map = label_map_util.load_labelmap(PATH_TO_LABELS)\n",
    "categories = label_map_util.convert_label_map_to_categories(label_map, max_num_classes=NUM_CLASSES, use_display_name=True)\n",
    "category_index = label_map_util.create_category_index(categories)"
   ]
  },
  {
   "cell_type": "code",
   "execution_count": null,
   "metadata": {},
   "outputs": [
    {
     "name": "stdout",
     "output_type": "stream",
     "text": [
      " * Serving Flask app \"__main__\" (lazy loading)\n",
      " * Environment: production\n",
      "   WARNING: This is a development server. Do not use it in a production deployment.\n",
      "   Use a production WSGI server instead.\n",
      " * Debug mode: off\n"
     ]
    },
    {
     "name": "stderr",
     "output_type": "stream",
     "text": [
      " * Running on http://127.0.0.1:5000/ (Press CTRL+C to quit)\n",
      "127.0.0.1 - - [10/May/2020 22:28:35] \"\u001b[37mGET / HTTP/1.1\u001b[0m\" 200 -\n",
      "127.0.0.1 - - [10/May/2020 22:28:35] \"\u001b[33mGET /favicon.ico HTTP/1.1\u001b[0m\" 404 -\n",
      "127.0.0.1 - - [10/May/2020 22:28:45] \"\u001b[32mPOST /upload HTTP/1.1\u001b[0m\" 302 -\n",
      "[2020-05-10 22:28:45,633] ERROR in app: Exception on /uploads/71578103_2362550147318848_8179693850055409664_o.jpg [GET]\n",
      "Traceback (most recent call last):\n",
      "  File \"C:\\Users\\Amin\\Anaconda3\\envs\\PythonGPU\\lib\\site-packages\\flask\\app.py\", line 2311, in wsgi_app\n",
      "    response = self.full_dispatch_request()\n",
      "  File \"C:\\Users\\Amin\\Anaconda3\\envs\\PythonGPU\\lib\\site-packages\\flask\\app.py\", line 1834, in full_dispatch_request\n",
      "    rv = self.handle_user_exception(e)\n",
      "  File \"C:\\Users\\Amin\\Anaconda3\\envs\\PythonGPU\\lib\\site-packages\\flask\\app.py\", line 1737, in handle_user_exception\n",
      "    reraise(exc_type, exc_value, tb)\n",
      "  File \"C:\\Users\\Amin\\Anaconda3\\envs\\PythonGPU\\lib\\site-packages\\flask\\_compat.py\", line 36, in reraise\n",
      "    raise value\n",
      "  File \"C:\\Users\\Amin\\Anaconda3\\envs\\PythonGPU\\lib\\site-packages\\flask\\app.py\", line 1832, in full_dispatch_request\n",
      "    rv = self.dispatch_request()\n",
      "  File \"C:\\Users\\Amin\\Anaconda3\\envs\\PythonGPU\\lib\\site-packages\\flask\\app.py\", line 1818, in dispatch_request\n",
      "    return self.view_functions[rule.endpoint](**req.view_args)\n",
      "  File \"<ipython-input-9-3a53c3ce048f>\", line 49, in uploaded_file\n",
      "    with tf.Session(graph=detection_graph) as sess:\n",
      "AttributeError: module 'tensorflow' has no attribute 'Session'\n",
      "127.0.0.1 - - [10/May/2020 22:28:45] \"\u001b[35m\u001b[1mGET /uploads/71578103_2362550147318848_8179693850055409664_o.jpg HTTP/1.1\u001b[0m\" 500 -\n"
     ]
    }
   ],
   "source": [
    "detection_graph = tf.Graph()\n",
    "with detection_graph.as_default():\n",
    "    od_graph_def = tf.compat.v1.GraphDef() \n",
    "    with tf.io.gfile.GFile(PATH_TO_CKPT, 'rb') as fid:\n",
    "        serialized_graph = fid.read()\n",
    "        od_graph_def.ParseFromString(serialized_graph)\n",
    "        tf.import_graph_def(od_graph_def, name='')\n",
    "\n",
    "\n",
    "\n",
    "def load_image_into_numpy_array(image):\n",
    "  (im_width, im_height) = image.size\n",
    "  return np.array(image.getdata()).reshape(\n",
    "      (im_height, im_width, 3)).astype(np.uint8)\n",
    "\n",
    "\n",
    "app = Flask(__name__)\n",
    "\n",
    "app.config['UPLOAD_FOLDER'] = 'uploads/'\n",
    "app.config['ALLOWED_EXTENSIONS'] = set(['png', 'jpg', 'jpeg'])\n",
    "\n",
    "def allowed_file(filename):\n",
    "    return '.' in filename and \\\n",
    "           filename.rsplit('.', 1)[1] in app.config['ALLOWED_EXTENSIONS']\n",
    "\n",
    "\n",
    "@app.route('/')\n",
    "def index():\n",
    "    return render_template('index.html')\n",
    "\n",
    "\n",
    "@app.route('/upload', methods=['POST'])\n",
    "def upload():\n",
    "    file = request.files['file']\n",
    "    if file and allowed_file(file.filename):\n",
    "        filename = secure_filename(file.filename)\n",
    "        file.save(os.path.join(app.config['UPLOAD_FOLDER'], filename))\n",
    "        return redirect(url_for('uploaded_file',\n",
    "                                filename=filename))\n",
    "\n",
    "\n",
    "@app.route('/uploads/<filename>')\n",
    "def uploaded_file(filename):\n",
    "    PATH_TO_TEST_IMAGES_DIR = app.config['UPLOAD_FOLDER']\n",
    "    TEST_IMAGE_PATHS = [ os.path.join(PATH_TO_TEST_IMAGES_DIR,filename.format(i)) for i in range(1, 2) ]\n",
    "    IMAGE_SIZE = (12, 8)\n",
    "\n",
    "    with detection_graph.as_default():\n",
    "        with tf.Session(graph=detection_graph) as sess:\n",
    "            for image_path in TEST_IMAGE_PATHS:\n",
    "                image = Image.open(image_path)\n",
    "                image_np = load_image_into_numpy_array(image)\n",
    "                image_np_expanded = np.expand_dims(image_np, axis=0)\n",
    "                image_tensor = detection_graph.get_tensor_by_name('image_tensor:0')\n",
    "                boxes = detection_graph.get_tensor_by_name('detection_boxes:0')\n",
    "                scores = detection_graph.get_tensor_by_name('detection_scores:0')\n",
    "                classes = detection_graph.get_tensor_by_name('detection_classes:0')\n",
    "                num_detections = detection_graph.get_tensor_by_name('num_detections:0')\n",
    "                (boxes, scores, classes, num_detections) = sess.run(\n",
    "                    [boxes, scores, classes, num_detections],\n",
    "                    feed_dict={image_tensor: image_np_expanded})\n",
    "                vis_util.visualize_boxes_and_labels_on_image_array(\n",
    "                    image_np,\n",
    "                    np.squeeze(boxes),\n",
    "                    np.squeeze(classes).astype(np.int32),\n",
    "                    np.squeeze(scores),\n",
    "                    category_index,\n",
    "                    use_normalized_coordinates=True,\n",
    "                    line_thickness=8)\n",
    "                im = Image.fromarray(image_np)\n",
    "                im.save('uploads/'+filename)\n",
    "\n",
    "    return send_from_directory(app.config['UPLOAD_FOLDER'],\n",
    "                               filename)\n",
    "if __name__ == '__main__':\n",
    "    app.run()\n",
    "\n"
   ]
  },
  {
   "cell_type": "code",
   "execution_count": null,
   "metadata": {},
   "outputs": [],
   "source": []
  }
 ],
 "metadata": {
  "kernelspec": {
   "display_name": "Python 3",
   "language": "python",
   "name": "python3"
  },
  "language_info": {
   "codemirror_mode": {
    "name": "ipython",
    "version": 3
   },
   "file_extension": ".py",
   "mimetype": "text/x-python",
   "name": "python",
   "nbconvert_exporter": "python",
   "pygments_lexer": "ipython3",
   "version": "3.7.7"
  }
 },
 "nbformat": 4,
 "nbformat_minor": 4
}
